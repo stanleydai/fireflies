{
 "cells": [
  {
   "cell_type": "code",
   "execution_count": 2,
   "id": "24c4664f",
   "metadata": {},
   "outputs": [],
   "source": [
    "import pandas as pd\n",
    "import requests"
   ]
  },
  {
   "cell_type": "code",
   "execution_count": 26,
   "id": "2bdfab86",
   "metadata": {},
   "outputs": [
    {
     "data": {
      "text/plain": [
       "Index(['Year', 'Habitat ID', 'Latitude', 'Longitude', 'State', 'Country',\n",
       "       'Location', 'Your Backyard?', 'Grassy', 'Wetland', 'Forest',\n",
       "       'Open/Unmowed', 'Cropland', 'Pasture', 'Beach',\n",
       "       'Hedge Rows/Thick Shrubs', 'Scattered Shrubs', 'Tall Grass',\n",
       "       'Flowerbeds', 'Ornamentals', 'No Low Vegetation', 'Tree Type',\n",
       "       'Creek/River (yards away)', 'Pond/Lake (yards away)',\n",
       "       'Freshwater Marsh (yards away)', 'Salt Water Marsh (yards away)',\n",
       "       'Agricultural Field (yards away)', 'Cultivated Bog (yards away)',\n",
       "       'Golf Course (yards away)', 'Swimming Pool (yards away)',\n",
       "       'Man-made Pool (yards away)', 'Ocean (yards away)',\n",
       "       'Is the Grass Mowed?', 'Fertilized', 'Weed Killer', 'Pesticides',\n",
       "       'Cast Light', 'Street Light (yards away)', 'Light Source (yards away)',\n",
       "       'Observation Date', 'Temperature (F)', 'Number Seen in 10 s',\n",
       "       'Precipitation', 'Moonlight', 'Windspeed (MPH)', 'Different Colors',\n",
       "       'Different Flash Patterns', 'Field Location', 'Clouds', 'Color',\n",
       "       'Flash Pattern', 'Fly Location', 'Fly J-Shape'],\n",
       "      dtype='object')"
      ]
     },
     "execution_count": 26,
     "metadata": {},
     "output_type": "execute_result"
    }
   ],
   "source": [
    "df = pd.read_csv(\"fireflies.csv\")\n",
    "df.head()\n",
    "df.columns\n"
   ]
  },
  {
   "cell_type": "code",
   "execution_count": 27,
   "id": "0b10c617",
   "metadata": {},
   "outputs": [
    {
     "data": {
      "text/html": [
       "<div>\n",
       "<style scoped>\n",
       "    .dataframe tbody tr th:only-of-type {\n",
       "        vertical-align: middle;\n",
       "    }\n",
       "\n",
       "    .dataframe tbody tr th {\n",
       "        vertical-align: top;\n",
       "    }\n",
       "\n",
       "    .dataframe thead th {\n",
       "        text-align: right;\n",
       "    }\n",
       "</style>\n",
       "<table border=\"1\" class=\"dataframe\">\n",
       "  <thead>\n",
       "    <tr style=\"text-align: right;\">\n",
       "      <th></th>\n",
       "      <th>Year</th>\n",
       "      <th>Latitude</th>\n",
       "      <th>Longitude</th>\n",
       "      <th>Observation Date</th>\n",
       "      <th>Country</th>\n",
       "    </tr>\n",
       "  </thead>\n",
       "  <tbody>\n",
       "    <tr>\n",
       "      <th>0</th>\n",
       "      <td>2008</td>\n",
       "      <td>42.3683</td>\n",
       "      <td>-71.0716</td>\n",
       "      <td>5/22/08 18:15</td>\n",
       "      <td>US</td>\n",
       "    </tr>\n",
       "    <tr>\n",
       "      <th>1</th>\n",
       "      <td>2008</td>\n",
       "      <td>42.3683</td>\n",
       "      <td>-71.0716</td>\n",
       "      <td>6/16/08 23:30</td>\n",
       "      <td>US</td>\n",
       "    </tr>\n",
       "    <tr>\n",
       "      <th>2</th>\n",
       "      <td>2008</td>\n",
       "      <td>42.3683</td>\n",
       "      <td>-71.0716</td>\n",
       "      <td>7/7/08 19:15</td>\n",
       "      <td>US</td>\n",
       "    </tr>\n",
       "    <tr>\n",
       "      <th>3</th>\n",
       "      <td>2008</td>\n",
       "      <td>42.3683</td>\n",
       "      <td>-71.0716</td>\n",
       "      <td>7/8/08 1:00</td>\n",
       "      <td>US</td>\n",
       "    </tr>\n",
       "    <tr>\n",
       "      <th>4</th>\n",
       "      <td>2008</td>\n",
       "      <td>42.3683</td>\n",
       "      <td>-71.0716</td>\n",
       "      <td>7/8/08 3:15</td>\n",
       "      <td>US</td>\n",
       "    </tr>\n",
       "  </tbody>\n",
       "</table>\n",
       "</div>"
      ],
      "text/plain": [
       "   Year  Latitude  Longitude Observation Date Country\n",
       "0  2008   42.3683   -71.0716    5/22/08 18:15      US\n",
       "1  2008   42.3683   -71.0716    6/16/08 23:30      US\n",
       "2  2008   42.3683   -71.0716     7/7/08 19:15      US\n",
       "3  2008   42.3683   -71.0716      7/8/08 1:00      US\n",
       "4  2008   42.3683   -71.0716      7/8/08 3:15      US"
      ]
     },
     "execution_count": 27,
     "metadata": {},
     "output_type": "execute_result"
    }
   ],
   "source": [
    "df = df[['Year', 'Latitude', 'Longitude', 'Observation Date', 'Country']]\n",
    "df.head()"
   ]
  },
  {
   "cell_type": "code",
   "execution_count": 31,
   "id": "082bf3bc",
   "metadata": {},
   "outputs": [
    {
     "data": {
      "text/plain": [
       "count    39076.000000\n",
       "mean        39.448764\n",
       "std          3.322534\n",
       "min         25.322400\n",
       "25%         38.700500\n",
       "50%         39.841900\n",
       "75%         42.059200\n",
       "max         47.903800\n",
       "Name: Latitude, dtype: float64"
      ]
     },
     "execution_count": 31,
     "metadata": {},
     "output_type": "execute_result"
    }
   ],
   "source": [
    "#keep only US\n",
    "df = df[df['Country'] == 'US']\n",
    "df.Latitude.describe()\n"
   ]
  },
  {
   "cell_type": "code",
   "execution_count": 30,
   "id": "30aba61f",
   "metadata": {},
   "outputs": [
    {
     "data": {
      "text/plain": [
       "count    39076.000000\n",
       "mean       -81.666493\n",
       "std          7.851825\n",
       "min       -122.073000\n",
       "25%        -89.444500\n",
       "50%        -80.198700\n",
       "75%        -75.601825\n",
       "max        -67.693800\n",
       "Name: Longitude, dtype: float64"
      ]
     },
     "execution_count": 30,
     "metadata": {},
     "output_type": "execute_result"
    }
   ],
   "source": [
    "df.Longitude.describe()"
   ]
  },
  {
   "cell_type": "code",
   "execution_count": 36,
   "id": "f94ee31d",
   "metadata": {},
   "outputs": [],
   "source": [
    "#split date var\n",
    "df[['date', 'time']] = df['Observation Date'].str.split(\" \", 1, expand = True)"
   ]
  },
  {
   "cell_type": "code",
   "execution_count": 43,
   "id": "4a60c0cf",
   "metadata": {},
   "outputs": [
    {
     "data": {
      "text/plain": [
       "(39076, 7)"
      ]
     },
     "execution_count": 43,
     "metadata": {},
     "output_type": "execute_result"
    }
   ],
   "source": [
    "df.shape"
   ]
  },
  {
   "cell_type": "code",
   "execution_count": 55,
   "id": "c87a73be",
   "metadata": {},
   "outputs": [
    {
     "data": {
      "text/plain": [
       "(14810, 7)"
      ]
     },
     "execution_count": 55,
     "metadata": {},
     "output_type": "execute_result"
    }
   ],
   "source": [
    "#don't need exact duplicates, do i?\n",
    "df2 = df.drop_duplicates(keep=False)\n",
    "df2.shape"
   ]
  },
  {
   "cell_type": "code",
   "execution_count": 57,
   "id": "fd289956",
   "metadata": {},
   "outputs": [],
   "source": [
    "df2.to_csv('fireflies5.csv', index = False)"
   ]
  },
  {
   "cell_type": "code",
   "execution_count": null,
   "id": "bc44d8e3",
   "metadata": {},
   "outputs": [],
   "source": []
  }
 ],
 "metadata": {
  "kernelspec": {
   "display_name": "Python 3 (ipykernel)",
   "language": "python",
   "name": "python3"
  },
  "language_info": {
   "codemirror_mode": {
    "name": "ipython",
    "version": 3
   },
   "file_extension": ".py",
   "mimetype": "text/x-python",
   "name": "python",
   "nbconvert_exporter": "python",
   "pygments_lexer": "ipython3",
   "version": "3.10.3"
  }
 },
 "nbformat": 4,
 "nbformat_minor": 5
}
