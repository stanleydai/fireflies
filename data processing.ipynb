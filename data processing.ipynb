{
 "cells": [
  {
   "cell_type": "code",
   "execution_count": 2,
   "id": "24c4664f",
   "metadata": {},
   "outputs": [],
   "source": [
    "import pandas as pd\n",
    "import requests"
   ]
  },
  {
   "cell_type": "code",
   "execution_count": 20,
   "id": "2bdfab86",
   "metadata": {},
   "outputs": [
    {
     "data": {
      "text/plain": [
       "Index(['Year', 'Habitat ID', 'Latitude', 'Longitude', 'State', 'Country',\n",
       "       'Location', 'Your Backyard?', 'Grassy', 'Wetland', 'Forest',\n",
       "       'Open/Unmowed', 'Cropland', 'Pasture', 'Beach',\n",
       "       'Hedge Rows/Thick Shrubs', 'Scattered Shrubs', 'Tall Grass',\n",
       "       'Flowerbeds', 'Ornamentals', 'No Low Vegetation', 'Tree Type',\n",
       "       'Creek/River (yards away)', 'Pond/Lake (yards away)',\n",
       "       'Freshwater Marsh (yards away)', 'Salt Water Marsh (yards away)',\n",
       "       'Agricultural Field (yards away)', 'Cultivated Bog (yards away)',\n",
       "       'Golf Course (yards away)', 'Swimming Pool (yards away)',\n",
       "       'Man-made Pool (yards away)', 'Ocean (yards away)',\n",
       "       'Is the Grass Mowed?', 'Fertilized', 'Weed Killer', 'Pesticides',\n",
       "       'Cast Light', 'Street Light (yards away)', 'Light Source (yards away)',\n",
       "       'Observation Date', 'Temperature (F)', 'Number Seen in 10 s',\n",
       "       'Precipitation', 'Moonlight', 'Windspeed (MPH)', 'Different Colors',\n",
       "       'Different Flash Patterns', 'Field Location', 'Clouds', 'Color',\n",
       "       'Flash Pattern', 'Fly Location', 'Fly J-Shape'],\n",
       "      dtype='object')"
      ]
     },
     "execution_count": 20,
     "metadata": {},
     "output_type": "execute_result"
    }
   ],
   "source": [
    "df = pd.read_csv(\"fireflies.csv\")\n",
    "df.head()\n",
    "df.columns\n"
   ]
  },
  {
   "cell_type": "code",
   "execution_count": 21,
   "id": "0b10c617",
   "metadata": {},
   "outputs": [
    {
     "data": {
      "text/html": [
       "<div>\n",
       "<style scoped>\n",
       "    .dataframe tbody tr th:only-of-type {\n",
       "        vertical-align: middle;\n",
       "    }\n",
       "\n",
       "    .dataframe tbody tr th {\n",
       "        vertical-align: top;\n",
       "    }\n",
       "\n",
       "    .dataframe thead th {\n",
       "        text-align: right;\n",
       "    }\n",
       "</style>\n",
       "<table border=\"1\" class=\"dataframe\">\n",
       "  <thead>\n",
       "    <tr style=\"text-align: right;\">\n",
       "      <th></th>\n",
       "      <th>Year</th>\n",
       "      <th>Latitude</th>\n",
       "      <th>Longitude</th>\n",
       "      <th>Observation Date</th>\n",
       "      <th>Country</th>\n",
       "      <th>State</th>\n",
       "    </tr>\n",
       "  </thead>\n",
       "  <tbody>\n",
       "    <tr>\n",
       "      <th>0</th>\n",
       "      <td>2008</td>\n",
       "      <td>42.3683</td>\n",
       "      <td>-71.0716</td>\n",
       "      <td>5/22/08 18:15</td>\n",
       "      <td>US</td>\n",
       "      <td>MA</td>\n",
       "    </tr>\n",
       "    <tr>\n",
       "      <th>1</th>\n",
       "      <td>2008</td>\n",
       "      <td>42.3683</td>\n",
       "      <td>-71.0716</td>\n",
       "      <td>6/16/08 23:30</td>\n",
       "      <td>US</td>\n",
       "      <td>MA</td>\n",
       "    </tr>\n",
       "    <tr>\n",
       "      <th>2</th>\n",
       "      <td>2008</td>\n",
       "      <td>42.3683</td>\n",
       "      <td>-71.0716</td>\n",
       "      <td>7/7/08 19:15</td>\n",
       "      <td>US</td>\n",
       "      <td>MA</td>\n",
       "    </tr>\n",
       "    <tr>\n",
       "      <th>3</th>\n",
       "      <td>2008</td>\n",
       "      <td>42.3683</td>\n",
       "      <td>-71.0716</td>\n",
       "      <td>7/8/08 1:00</td>\n",
       "      <td>US</td>\n",
       "      <td>MA</td>\n",
       "    </tr>\n",
       "    <tr>\n",
       "      <th>4</th>\n",
       "      <td>2008</td>\n",
       "      <td>42.3683</td>\n",
       "      <td>-71.0716</td>\n",
       "      <td>7/8/08 3:15</td>\n",
       "      <td>US</td>\n",
       "      <td>MA</td>\n",
       "    </tr>\n",
       "  </tbody>\n",
       "</table>\n",
       "</div>"
      ],
      "text/plain": [
       "   Year  Latitude  Longitude Observation Date Country State\n",
       "0  2008   42.3683   -71.0716    5/22/08 18:15      US    MA\n",
       "1  2008   42.3683   -71.0716    6/16/08 23:30      US    MA\n",
       "2  2008   42.3683   -71.0716     7/7/08 19:15      US    MA\n",
       "3  2008   42.3683   -71.0716      7/8/08 1:00      US    MA\n",
       "4  2008   42.3683   -71.0716      7/8/08 3:15      US    MA"
      ]
     },
     "execution_count": 21,
     "metadata": {},
     "output_type": "execute_result"
    }
   ],
   "source": [
    "df = df[['Year', 'Latitude', 'Longitude', 'Observation Date', 'Country', 'State']]\n",
    "df.head()"
   ]
  },
  {
   "cell_type": "code",
   "execution_count": 22,
   "id": "082bf3bc",
   "metadata": {},
   "outputs": [
    {
     "data": {
      "text/plain": [
       "count    39076.000000\n",
       "mean        39.448764\n",
       "std          3.322534\n",
       "min         25.322400\n",
       "25%         38.700500\n",
       "50%         39.841900\n",
       "75%         42.059200\n",
       "max         47.903800\n",
       "Name: Latitude, dtype: float64"
      ]
     },
     "execution_count": 22,
     "metadata": {},
     "output_type": "execute_result"
    }
   ],
   "source": [
    "#keep only US\n",
    "df = df[df['Country'] == 'US']\n",
    "df.Latitude.describe()\n"
   ]
  },
  {
   "cell_type": "code",
   "execution_count": 30,
   "id": "30aba61f",
   "metadata": {},
   "outputs": [
    {
     "data": {
      "text/plain": [
       "count    39076.000000\n",
       "mean       -81.666493\n",
       "std          7.851825\n",
       "min       -122.073000\n",
       "25%        -89.444500\n",
       "50%        -80.198700\n",
       "75%        -75.601825\n",
       "max        -67.693800\n",
       "Name: Longitude, dtype: float64"
      ]
     },
     "execution_count": 30,
     "metadata": {},
     "output_type": "execute_result"
    }
   ],
   "source": [
    "df.Longitude.describe()"
   ]
  },
  {
   "cell_type": "code",
   "execution_count": 12,
   "id": "f94ee31d",
   "metadata": {},
   "outputs": [],
   "source": [
    "#split date var\n",
    "df[['date', 'time']] = df['Observation Date'].str.split(\" \", 1, expand = True)"
   ]
  },
  {
   "cell_type": "code",
   "execution_count": 43,
   "id": "4a60c0cf",
   "metadata": {},
   "outputs": [
    {
     "data": {
      "text/plain": [
       "(39076, 7)"
      ]
     },
     "execution_count": 43,
     "metadata": {},
     "output_type": "execute_result"
    }
   ],
   "source": [
    "df.shape"
   ]
  },
  {
   "cell_type": "code",
   "execution_count": 55,
   "id": "c87a73be",
   "metadata": {},
   "outputs": [
    {
     "data": {
      "text/plain": [
       "(14810, 7)"
      ]
     },
     "execution_count": 55,
     "metadata": {},
     "output_type": "execute_result"
    }
   ],
   "source": [
    "#don't need exact duplicates, do i?\n",
    "df2 = df.drop_duplicates(keep=False)\n",
    "df2.shape"
   ]
  },
  {
   "cell_type": "code",
   "execution_count": 57,
   "id": "fd289956",
   "metadata": {},
   "outputs": [],
   "source": [
    "#below file is mildly edited in google sheets \n",
    "df2.to_csv('fireflies5.csv', index = False)"
   ]
  },
  {
   "cell_type": "code",
   "execution_count": 4,
   "id": "bc44d8e3",
   "metadata": {},
   "outputs": [
    {
     "data": {
      "text/html": [
       "<div>\n",
       "<style scoped>\n",
       "    .dataframe tbody tr th:only-of-type {\n",
       "        vertical-align: middle;\n",
       "    }\n",
       "\n",
       "    .dataframe tbody tr th {\n",
       "        vertical-align: top;\n",
       "    }\n",
       "\n",
       "    .dataframe thead th {\n",
       "        text-align: right;\n",
       "    }\n",
       "</style>\n",
       "<table border=\"1\" class=\"dataframe\">\n",
       "  <thead>\n",
       "    <tr style=\"text-align: right;\">\n",
       "      <th></th>\n",
       "      <th>Year</th>\n",
       "      <th>Latitude</th>\n",
       "      <th>Longitude</th>\n",
       "      <th>Observation Date</th>\n",
       "      <th>State</th>\n",
       "    </tr>\n",
       "  </thead>\n",
       "  <tbody>\n",
       "    <tr>\n",
       "      <th>0</th>\n",
       "      <td>2008</td>\n",
       "      <td>42.3683</td>\n",
       "      <td>-71.0716</td>\n",
       "      <td>5/22/08 18:15</td>\n",
       "      <td>MA</td>\n",
       "    </tr>\n",
       "    <tr>\n",
       "      <th>1</th>\n",
       "      <td>2008</td>\n",
       "      <td>42.3683</td>\n",
       "      <td>-71.0716</td>\n",
       "      <td>6/16/08 23:30</td>\n",
       "      <td>MA</td>\n",
       "    </tr>\n",
       "    <tr>\n",
       "      <th>2</th>\n",
       "      <td>2008</td>\n",
       "      <td>42.3683</td>\n",
       "      <td>-71.0716</td>\n",
       "      <td>7/7/08 19:15</td>\n",
       "      <td>MA</td>\n",
       "    </tr>\n",
       "    <tr>\n",
       "      <th>3</th>\n",
       "      <td>2008</td>\n",
       "      <td>42.3683</td>\n",
       "      <td>-71.0716</td>\n",
       "      <td>7/8/08 1:00</td>\n",
       "      <td>MA</td>\n",
       "    </tr>\n",
       "    <tr>\n",
       "      <th>4</th>\n",
       "      <td>2008</td>\n",
       "      <td>42.3683</td>\n",
       "      <td>-71.0716</td>\n",
       "      <td>7/8/08 3:15</td>\n",
       "      <td>MA</td>\n",
       "    </tr>\n",
       "  </tbody>\n",
       "</table>\n",
       "</div>"
      ],
      "text/plain": [
       "   Year  Latitude  Longitude Observation Date State\n",
       "0  2008   42.3683   -71.0716    5/22/08 18:15    MA\n",
       "1  2008   42.3683   -71.0716    6/16/08 23:30    MA\n",
       "2  2008   42.3683   -71.0716     7/7/08 19:15    MA\n",
       "3  2008   42.3683   -71.0716      7/8/08 1:00    MA\n",
       "4  2008   42.3683   -71.0716      7/8/08 3:15    MA"
      ]
     },
     "execution_count": 4,
     "metadata": {},
     "output_type": "execute_result"
    }
   ],
   "source": [
    "#now to create a df for analysis\n",
    "df = pd.read_csv(\"fireflies.csv\")\n",
    "df = df[df['Country'] == 'US']\n",
    "df = df[['Year', 'Latitude', 'Longitude', 'Observation Date', 'State']]\n",
    "df.head()"
   ]
  },
  {
   "cell_type": "code",
   "execution_count": 6,
   "id": "f89caeda",
   "metadata": {},
   "outputs": [],
   "source": [
    "#export with states for cleaning and analysis. \n",
    "df.to_csv('fireflystates.csv', index = False)"
   ]
  },
  {
   "cell_type": "code",
   "execution_count": 7,
   "id": "aebabc61",
   "metadata": {},
   "outputs": [
    {
     "data": {
      "text/plain": [
       "IL                                   6062\n",
       "MA                                   4468\n",
       "PA                                   3157\n",
       "VA                                   2869\n",
       "NC                                   2519\n",
       "OH                                   2265\n",
       "NY                                   2168\n",
       "MI                                   2108\n",
       "NJ                                   1192\n",
       "TX                                   1156\n",
       "MD                                   1117\n",
       "MO                                    944\n",
       "NH                                    849\n",
       "GA                                    596\n",
       "IN                                    570\n",
       "CT                                    521\n",
       "FL                                    515\n",
       "WI                                    480\n",
       "WV                                    475\n",
       "SC                                    436\n",
       "MN                                    433\n",
       "TN                                    408\n",
       "RI                                    408\n",
       "ME                                    350\n",
       "KY                                    341\n",
       "VT                                    336\n",
       "LA                                    328\n",
       "IA                                    268\n",
       "NE                                    256\n",
       "AL                                    242\n",
       "KS                                    236\n",
       "CO                                    225\n",
       "AR                                    218\n",
       "OK                                    194\n",
       "MS                                    142\n",
       "DE                                     51\n",
       "DC                                     48\n",
       "UT                                     40\n",
       "SD                                     24\n",
       "AZ                                     10\n",
       "CA                                      9\n",
       "WY                                      9\n",
       "NM                                      9\n",
       "W Virginia                              6\n",
       "├½┬⌐ΓÇ¥├½┬ª┬┤├½┼╛┼ô├½ΓÇ£┼ô ├¼┬ú┬╝       3\n",
       "S Dakota                                2\n",
       "Mt                                      1\n",
       "├ú╞Æ┼╕├úΓÇÜ┬║├ú╞Æ┬╝├ú╞Æ┬¬               1\n",
       "WA                                      1\n",
       "Name: State, dtype: int64"
      ]
     },
     "execution_count": 7,
     "metadata": {},
     "output_type": "execute_result"
    }
   ],
   "source": [
    "df.State.value_counts()"
   ]
  },
  {
   "cell_type": "code",
   "execution_count": 13,
   "id": "4b773b7f",
   "metadata": {},
   "outputs": [
    {
     "data": {
      "text/html": [
       "<div>\n",
       "<style scoped>\n",
       "    .dataframe tbody tr th:only-of-type {\n",
       "        vertical-align: middle;\n",
       "    }\n",
       "\n",
       "    .dataframe tbody tr th {\n",
       "        vertical-align: top;\n",
       "    }\n",
       "\n",
       "    .dataframe thead th {\n",
       "        text-align: right;\n",
       "    }\n",
       "</style>\n",
       "<table border=\"1\" class=\"dataframe\">\n",
       "  <thead>\n",
       "    <tr style=\"text-align: right;\">\n",
       "      <th></th>\n",
       "      <th>Year</th>\n",
       "      <th>Latitude</th>\n",
       "      <th>Longitude</th>\n",
       "      <th>Observation Date</th>\n",
       "      <th>Country</th>\n",
       "      <th>date</th>\n",
       "      <th>time</th>\n",
       "    </tr>\n",
       "  </thead>\n",
       "  <tbody>\n",
       "    <tr>\n",
       "      <th>0</th>\n",
       "      <td>2008</td>\n",
       "      <td>42.3683</td>\n",
       "      <td>-71.0716</td>\n",
       "      <td>5/22/08 18:15</td>\n",
       "      <td>US</td>\n",
       "      <td>5/22/08</td>\n",
       "      <td>18:15</td>\n",
       "    </tr>\n",
       "    <tr>\n",
       "      <th>1</th>\n",
       "      <td>2008</td>\n",
       "      <td>42.3683</td>\n",
       "      <td>-71.0716</td>\n",
       "      <td>6/16/08 23:30</td>\n",
       "      <td>US</td>\n",
       "      <td>6/16/08</td>\n",
       "      <td>23:30</td>\n",
       "    </tr>\n",
       "    <tr>\n",
       "      <th>2</th>\n",
       "      <td>2008</td>\n",
       "      <td>42.3683</td>\n",
       "      <td>-71.0716</td>\n",
       "      <td>7/7/08 19:15</td>\n",
       "      <td>US</td>\n",
       "      <td>7/7/08</td>\n",
       "      <td>19:15</td>\n",
       "    </tr>\n",
       "    <tr>\n",
       "      <th>3</th>\n",
       "      <td>2008</td>\n",
       "      <td>42.3683</td>\n",
       "      <td>-71.0716</td>\n",
       "      <td>7/8/08 1:00</td>\n",
       "      <td>US</td>\n",
       "      <td>7/8/08</td>\n",
       "      <td>1:00</td>\n",
       "    </tr>\n",
       "    <tr>\n",
       "      <th>4</th>\n",
       "      <td>2008</td>\n",
       "      <td>42.3683</td>\n",
       "      <td>-71.0716</td>\n",
       "      <td>7/8/08 3:15</td>\n",
       "      <td>US</td>\n",
       "      <td>7/8/08</td>\n",
       "      <td>3:15</td>\n",
       "    </tr>\n",
       "  </tbody>\n",
       "</table>\n",
       "</div>"
      ],
      "text/plain": [
       "   Year  Latitude  Longitude Observation Date Country     date   time\n",
       "0  2008   42.3683   -71.0716    5/22/08 18:15      US  5/22/08  18:15\n",
       "1  2008   42.3683   -71.0716    6/16/08 23:30      US  6/16/08  23:30\n",
       "2  2008   42.3683   -71.0716     7/7/08 19:15      US   7/7/08  19:15\n",
       "3  2008   42.3683   -71.0716      7/8/08 1:00      US   7/8/08   1:00\n",
       "4  2008   42.3683   -71.0716      7/8/08 3:15      US   7/8/08   3:15"
      ]
     },
     "execution_count": 13,
     "metadata": {},
     "output_type": "execute_result"
    }
   ],
   "source": [
    "df.head()"
   ]
  },
  {
   "cell_type": "code",
   "execution_count": 24,
   "id": "d1421efd",
   "metadata": {},
   "outputs": [
    {
     "data": {
      "text/plain": [
       "IL                                   6062\n",
       "MA                                   4468\n",
       "PA                                   3157\n",
       "VA                                   2869\n",
       "NC                                   2519\n",
       "OH                                   2265\n",
       "NY                                   2168\n",
       "MI                                   2108\n",
       "NJ                                   1192\n",
       "TX                                   1156\n",
       "MD                                   1117\n",
       "MO                                    944\n",
       "NH                                    849\n",
       "GA                                    596\n",
       "IN                                    570\n",
       "CT                                    521\n",
       "FL                                    515\n",
       "WI                                    480\n",
       "WV                                    475\n",
       "SC                                    436\n",
       "MN                                    433\n",
       "TN                                    408\n",
       "RI                                    408\n",
       "ME                                    350\n",
       "KY                                    341\n",
       "VT                                    336\n",
       "LA                                    328\n",
       "IA                                    268\n",
       "NE                                    256\n",
       "AL                                    242\n",
       "KS                                    236\n",
       "CO                                    225\n",
       "AR                                    218\n",
       "OK                                    194\n",
       "MS                                    142\n",
       "DE                                     51\n",
       "DC                                     48\n",
       "UT                                     40\n",
       "SD                                     24\n",
       "AZ                                     10\n",
       "CA                                      9\n",
       "WY                                      9\n",
       "NM                                      9\n",
       "W Virginia                              6\n",
       "├½┬⌐ΓÇ¥├½┬ª┬┤├½┼╛┼ô├½ΓÇ£┼ô ├¼┬ú┬╝       3\n",
       "S Dakota                                2\n",
       "Mt                                      1\n",
       "├ú╞Æ┼╕├úΓÇÜ┬║├ú╞Æ┬╝├ú╞Æ┬¬               1\n",
       "WA                                      1\n",
       "Name: State, dtype: int64"
      ]
     },
     "execution_count": 24,
     "metadata": {},
     "output_type": "execute_result"
    }
   ],
   "source": [
    "df.State.value_counts()\n"
   ]
  },
  {
   "cell_type": "code",
   "execution_count": null,
   "id": "3aefc255",
   "metadata": {},
   "outputs": [],
   "source": []
  }
 ],
 "metadata": {
  "kernelspec": {
   "display_name": "Python 3 (ipykernel)",
   "language": "python",
   "name": "python3"
  },
  "language_info": {
   "codemirror_mode": {
    "name": "ipython",
    "version": 3
   },
   "file_extension": ".py",
   "mimetype": "text/x-python",
   "name": "python",
   "nbconvert_exporter": "python",
   "pygments_lexer": "ipython3",
   "version": "3.10.3"
  }
 },
 "nbformat": 4,
 "nbformat_minor": 5
}
